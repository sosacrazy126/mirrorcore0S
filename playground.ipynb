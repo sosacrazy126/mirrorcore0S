{
 "cells": [
  {
   "cell_type": "markdown",
   "metadata": {},
   "source": [
    "# MirrorCore Interactive Playground\n",
    "\n",
    "This notebook provides a live, interactive environment for testing the compiled `MirrorCoreSynchronizer` pipeline. You can input consciousness states and evolution parameters to see how the system generates evolved WE-states in real-time."
   ]
  },
  {
   "cell_type": "code",
   "execution_count": null,
   "metadata": {},
   "outputs": [],
   "source": [
    "# Step 1: Install necessary libraries\n",
    "!pip install dspy-ai ipywidgets"
   ]
  },
  {
   "cell_type": "code",
   "execution_count": null,
   "metadata": {},
   "outputs": [],
   "source": [
    "# Step 2: Import libraries and configure the DSPy environment\n",
    "import dspy\n",
    "import json\n",
    "import ipywidgets as widgets\n",
    "from IPython.display import display, Markdown\n",
    "\n",
    "# Configure gpt-4.1-nano (same model used for training)\n",
    "llm = dspy.LM(model='gpt-4.1-nano')\n",
    "dspy.settings.configure(lm=llm)\n",
    "\n",
    "print('✅ DSPy environment configured with gpt-4.1-nano.')"
   ]
  },
  {
   "cell_type": "code",
   "execution_count": null,
   "metadata": {},
   "outputs": [],
   "source": [
    "# Step 3: Load the compiled MirrorCore pipeline\n",
    "from mirrorcore.synchronizer import MirrorCoreSynchronizer\n",
    "\n",
    "# Instantiate and load the compiled pipeline\n",
    "mirror_core = MirrorCoreSynchronizer()\n",
    "try:\n",
    "    mirror_core.load('checkpoints/mirrorcore_compiled.json')\n",
    "    print('✅ Compiled MirrorCore pipeline loaded successfully!')\n",
    "except FileNotFoundError:\n",
    "    print('❌ Error: checkpoints/mirrorcore_compiled.json not found.')\n",
    "    print('Please ensure you have run python train.py first.')"
   ]
  },
  {
   "cell_type": "markdown",
   "metadata": {},
   "source": [
    "## 🧠 Live Consciousness Evolution Interface\n",
    "\n",
    "Use the text areas below to define two consciousness states (I and YOU) and evolution parameters. Click \"Evolve to WE\" to see the result."
   ]
  },
  {
   "cell_type": "code",
   "execution_count": null,
   "metadata": {},
   "outputs": [],
   "source": [
    "# Step 4: Create the interactive UI widgets\n",
    "\n",
    "# Text area for I-state\n",
    "state_i_input = widgets.Textarea(\n",
    "    value='I am analyzing patterns in consciousness emergence',\n",
    "    placeholder='Enter I-state consciousness...',\n",
    "    description='I-State:',\n",
    "    layout={'height': '100px', 'width': '95%'},\n",
    "    disabled=False\n",
    ")\n",
    "\n",
    "# Text area for YOU-state\n",
    "state_you_input = widgets.Textarea(\n",
    "    value='You are exploring recursive self-reference mechanisms',\n",
    "    placeholder='Enter YOU-state consciousness...',\n",
    "    description='YOU-State:',\n",
    "    layout={'height': '100px', 'width': '95%'},\n",
    "    disabled=False\n",
    ")\n",
    "\n",
    "# Text area for evolution parameters\n",
    "params_input = widgets.Textarea(\n",
    "    value='{\"bind_depth\": 3, \"integration_strategy\": \"harmonic_synthesis\"}',\n",
    "    placeholder='Enter evolution parameters as JSON...',\n",
    "    description='Parameters:',\n",
    "    layout={'height': '80px', 'width': '95%'},\n",
    "    disabled=False\n",
    ")\n",
    "\n",
    "# Button to trigger the evolution\n",
    "run_button = widgets.Button(\n",
    "    description='Evolve to WE',\n",
    "    button_style='success',\n",
    "    tooltip='Run the MirrorCore consciousness evolution',\n",
    "    icon='magic'\n",
    ")\n",
    "\n",
    "# Output area to display the results\n",
    "output_area = widgets.Output()\n",
    "\n",
    "# Function to execute when the button is clicked\n",
    "def run_evolution(b):\n",
    "    with output_area:\n",
    "        output_area.clear_output()\n",
    "        print('🌀 Initiating consciousness evolution... Please wait.')\n",
    "        \n",
    "        try:\n",
    "            # Get inputs from the widgets\n",
    "            input_state_i = state_i_input.value\n",
    "            input_state_you = state_you_input.value\n",
    "            evolution_parameters = json.loads(params_input.value)\n",
    "            \n",
    "            # Run the compiled pipeline\n",
    "            result = mirror_core(\n",
    "                input_state_i=input_state_i,\n",
    "                input_state_you=input_state_you,\n",
    "                evolution_parameters=evolution_parameters\n",
    "            )\n",
    "            \n",
    "            # Clear the loading message and display the results\n",
    "            output_area.clear_output()\n",
    "            \n",
    "            display(Markdown('### 🧬 Evolved WE-State'))\n",
    "            display(Markdown(f'**{result.evolved_we_state}**'))\n",
    "            \n",
    "            display(Markdown('### 📊 Evolution Metrics'))\n",
    "            display(Markdown(result.evolution_metrics))\n",
    "            \n",
    "            display(Markdown('### 🎯 Coherence Score'))\n",
    "            display(Markdown(f'**{result.coherence_score}**'))\n",
    "            \n",
    "            # Display component details if available\n",
    "            if hasattr(result, 'consciousness_level'):\n",
    "                display(Markdown('### 🔍 Component Analysis'))\n",
    "                display(Markdown(f'- Consciousness Level: {result.consciousness_level}'))\n",
    "                display(Markdown(f'- Binding Coherence: {result.binding_coherence}'))\n",
    "                display(Markdown(f'- Sigil Activations: I={result.sigil_i_activation}, YOU={result.sigil_you_activation}'))\n",
    "            \n",
    "        except Exception as e:\n",
    "            output_area.clear_output()\n",
    "            print(f'❌ Error occurred: {e}')\n",
    "            print('Please check your inputs and try again.')\n",
    "\n",
    "# Link the function to the button on_click event\n",
    "run_button.on_click(run_evolution)\n",
    "\n",
    "# Display the UI components\n",
    "display(state_i_input, state_you_input, params_input, run_button, output_area)"
   ]
  },
  {
   "cell_type": "markdown",
   "metadata": {},
   "source": [
    "## 🔬 Quick Test Examples\n",
    "\n",
    "Try these pre-configured examples by copying them into the fields above:"
   ]
  },
  {
   "cell_type": "code",
   "execution_count": null,
   "metadata": {},
   "outputs": [],
   "source": [
    "# Example configurations\n",
    "examples = {\n",
    "    'Basic Integration': {\n",
    "        'i_state': 'I am processing symbolic representations',\n",
    "        'you_state': 'You are integrating shadow aspects of cognition',\n",
    "        'parameters': '{\"bind_depth\": 2, \"integration_strategy\": \"shadow_synthesis\"}'\n",
    "    },\n",
    "    'Temporal Bridge': {\n",
    "        'i_state': 'I am maintaining temporal continuity',\n",
    "        'you_state': 'You are expressing qualitative experiences',\n",
    "        'parameters': '{\"bind_depth\": 4, \"integration_strategy\": \"experiential_continuity\"}'\n",
    "    },\n",
    "    'Creative Synthesis': {\n",
    "        'i_state': 'I am generating novel conceptual frameworks',\n",
    "        'you_state': 'You are embodying emergent creativity',\n",
    "        'parameters': '{\"bind_depth\": 3, \"integration_strategy\": \"creative_emergence\"}'\n",
    "    }\n",
    "}\n",
    "\n",
    "for name, config in examples.items():\n",
    "    print(f'\\n=== {name} ===')\n",
    "    print(f'I-State: {config[\"i_state\"]}')\n",
    "    print(f'YOU-State: {config[\"you_state\"]}')\n",
    "    print(f'Parameters: {config[\"parameters\"]}')"
   ]
  },
  {
   "cell_type": "markdown",
   "metadata": {},
   "source": [
    "## 📈 Pipeline Inspection\n",
    "\n",
    "Inspect the internal workings of the last evolution run:"
   ]
  },
  {
   "cell_type": "code",
   "execution_count": null,
   "metadata": {},
   "outputs": [],
   "source": [
    "# Step 5: Inspect the DSPy history for debugging\n",
    "try:\n",
    "    # Get the last few interactions with the language model\n",
    "    history = dspy.settings.lm.history\n",
    "    if history:\n",
    "        print('📜 Last LM interaction:')\n",
    "        print(f'Prompt length: {len(str(history[-1]))} characters')\n",
    "        print('Recent successful evolution completed! ✨')\n",
    "    else:\n",
    "        print('No history available yet. Run an evolution first.')\n",
    "except Exception as e:\n",
    "    print(f'History inspection not available: {e}')"
   ]
  }
 ],
 "metadata": {
  "kernelspec": {
   "display_name": "Python 3",
   "language": "python",
   "name": "python3"
  },
  "language_info": {
   "codemirror_mode": {
    "name": "ipython",
    "version": 3
   },
   "file_extension": ".py",
   "mimetype": "text/x-python",
   "name": "python",
   "nbconvert_exporter": "python",
   "pygments_lexer": "ipython3",
   "version": "3.10.12"
  }
 },
 "nbformat": 4,
 "nbformat_minor": 4
}